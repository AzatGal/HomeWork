{
 "metadata": {
  "kernelspec": {
   "language": "python",
   "display_name": "Python 3",
   "name": "python3"
  },
  "language_info": {
   "pygments_lexer": "ipython3",
   "nbconvert_exporter": "python",
   "version": "3.6.4",
   "file_extension": ".py",
   "codemirror_mode": {
    "name": "ipython",
    "version": 3
   },
   "name": "python",
   "mimetype": "text/x-python"
  }
 },
 "nbformat_minor": 4,
 "nbformat": 4,
 "cells": [
  {
   "cell_type": "code",
   "execution_count": null,
   "outputs": [],
   "source": [
    "!nvidia-smi"
   ],
   "metadata": {
    "collapsed": false
   }
  },
  {
   "cell_type": "code",
   "execution_count": null,
   "outputs": [],
   "source": [
    "!pip install neptune easydict"
   ],
   "metadata": {
    "collapsed": false
   }
  },
  {
   "cell_type": "code",
   "source": [
    "# клонирование проекта из вашего репозитория\n",
    "# получение токена: https://docs.github.com/en/authentication/keeping-your-account-and-data-secure/managing-your-personal-access-tokens#creating-a-fine-grained-personal-access-token\n",
    "!git clone -b master https://<TOKEN>@github.com/pkhanzhina/mllib_f2023_cnn.git\n",
    "%cd \"mllib_f2023_cnn/\""
   ],
   "metadata": {},
   "execution_count": null,
   "outputs": []
  },
  {
   "cell_type": "code",
   "source": [
    "# импорт библиотек\n",
    "from easydict import EasyDict\n",
    "import os\n",
    "from executors.trainer import Trainer"
   ],
   "metadata": {},
   "execution_count": null,
   "outputs": []
  },
  {
   "cell_type": "code",
   "execution_count": null,
   "outputs": [],
   "source": [
    "# токен для neptune.ai\n",
    "os.environ['NEPTUNE_APIKEY'] = ''"
   ],
   "metadata": {
    "collapsed": false
   }
  },
  {
   "cell_type": "code",
   "source": [
    "# конфиг для датасета\n",
    "ROOT_DIR = '/kaggle/input'\n",
    "\n",
    "dataset_cfg = EasyDict()\n",
    "\n",
    "dataset_cfg.path = os.path.join(ROOT_DIR, 'oxford-iiit-pet')\n",
    "dataset_cfg.nrof_classes = 37\n",
    "\n",
    "dataset_cfg.annotation_filenames = {\n",
    "    'train': 'trainval.txt',\n",
    "    'test': 'test.txt'\n",
    "}\n",
    "\n",
    "dataset_cfg.transforms = EasyDict()\n",
    "dataset_cfg.transforms.train = [\n",
    "    ('RandomResizedCrop', ((224, 224),)),\n",
    "    ('ToTensor', ()),\n",
    "    ('Normalize', ([0.485, 0.456, 0.405], [0.229, 0.224, 0.225]))\n",
    "]\n",
    "dataset_cfg.transforms.test = [\n",
    "    ('Resize', ((256, 256),)),\n",
    "    ('CenterCrop', ((224, 224),)),\n",
    "    ('ToTensor', ()),\n",
    "    ('Normalize', ([0.485, 0.456, 0.405], [0.229, 0.224, 0.225]))\n",
    "]"
   ],
   "metadata": {
    "execution": {
     "iopub.status.busy": "2022-06-26T19:59:35.278469Z",
     "iopub.execute_input": "2022-06-26T19:59:35.278778Z",
     "iopub.status.idle": "2022-06-26T19:59:35.291354Z",
     "shell.execute_reply.started": "2022-06-26T19:59:35.278748Z",
     "shell.execute_reply": "2022-06-26T19:59:35.290457Z"
    },
    "trusted": true
   },
   "execution_count": null,
   "outputs": []
  },
  {
   "cell_type": "code",
   "source": [
    "# конфиг для модели\n",
    "model_cfg = EasyDict()"
   ],
   "metadata": {
    "execution": {
     "iopub.status.busy": "2022-06-26T19:59:35.308094Z",
     "iopub.execute_input": "2022-06-26T19:59:35.308359Z",
     "iopub.status.idle": "2022-06-26T19:59:35.314248Z",
     "shell.execute_reply.started": "2022-06-26T19:59:35.308335Z",
     "shell.execute_reply": "2022-06-26T19:59:35.31305Z"
    },
    "trusted": true
   },
   "execution_count": null,
   "outputs": []
  },
  {
   "cell_type": "code",
   "execution_count": null,
   "outputs": [],
   "source": [
    "# конфиг для обучения\n",
    "ROOT_DIR = '/kaggle/working/'\n",
    "\n",
    "train_cfg = EasyDict()\n",
    "train_cfg.seed = 0\n",
    "\n",
    "train_cfg.batch_size = 64\n",
    "train_cfg.lr = 1e-3\n",
    "\n",
    "train_cfg.model_name = 'VGG16'  # ['VGG16', 'ResNet50']\n",
    "train_cfg.optimizer_name = 'Adam'  # ['SGD', 'Adam']\n",
    "\n",
    "train_cfg.device = 'cpu'  # ['cpu', 'cuda']\n",
    "train_cfg.exp_dir = os.path.join(ROOT_DIR, 'exp_name')"
   ],
   "metadata": {
    "collapsed": false
   }
  },
  {
   "cell_type": "code",
   "source": [
    "train_cfg.dataset_cfg = dataset_cfg\n",
    "train_cfg.model_cfg = model_cfg"
   ],
   "metadata": {
    "execution": {
     "iopub.status.busy": "2022-06-26T19:59:35.31631Z",
     "iopub.execute_input": "2022-06-26T19:59:35.31725Z",
     "iopub.status.idle": "2022-06-26T19:59:35.32218Z",
     "shell.execute_reply.started": "2022-06-26T19:59:35.317213Z",
     "shell.execute_reply": "2022-06-26T19:59:35.32105Z"
    },
    "trusted": true
   },
   "execution_count": null,
   "outputs": []
  },
  {
   "cell_type": "code",
   "source": [
    "# инициализация трейнера\n",
    "trainer = Trainer(train_cfg)"
   ],
   "metadata": {},
   "execution_count": null,
   "outputs": []
  },
  {
   "cell_type": "code",
   "source": [
    "# обучение\n",
    "trainer.fit()"
   ],
   "metadata": {
    "scrolled": true,
    "execution": {
     "iopub.status.busy": "2022-06-26T20:00:13.798489Z",
     "iopub.execute_input": "2022-06-26T20:00:13.798869Z"
    },
    "trusted": true
   },
   "execution_count": null,
   "outputs": []
  },
  {
   "cell_type": "code",
   "execution_count": null,
   "outputs": [],
   "source": [
    "# для обучения, которое занимает несколько часов, используйте режим 'Save & Run All'\n",
    "\n",
    "# Save & Run All creates a new session with a completely clean state and runs your notebook from top to bottom. This is perfect for major milestones or when you want to share your work, as it gives you (and anyone else who reads your notebook) the confidence that your notebook can be run reproducibly. In order to save successfully, the entire Notebook must execute within 12 hours (9 hours for TPU notebooks). Save & Run All is identical to the “Commit” behavior you may have used previously on Kaggle.\n",
    "\n",
    "# по умолчанию GPU отключена, для того, чтобы включить:\n",
    "# - При обычном запуске notebook: Notebook options-> accelerator -> GPU P100\n",
    "# - Save & Run All: Save version -> version type (Save & Run All (Commit) -> advanced settings (настроить сохранение output и выбрать режим с GPU)"
   ],
   "metadata": {
    "collapsed": false
   }
  }
 ]
}